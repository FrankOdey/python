{
 "cells": [
  {
   "cell_type": "code",
   "execution_count": 11,
   "metadata": {},
   "outputs": [
    {
     "name": "stdout",
     "output_type": "stream",
     "text": [
      "Enter your year of birth: 1988\n",
      "Your Present age is: 30\n",
      " Your future age will be: 73.26666666666667\n"
     ]
    }
   ],
   "source": [
    "year = int(input(\"Enter your year of birth: \"))\n",
    "thisYear = 2018\n",
    "age = thisYear - year\n",
    "\n",
    "print(\"Your Present age is: \" + str(age))\n",
    "\n",
    "future = thisYear + age + 150\n",
    "future_age = future / age\n",
    "\n",
    "print(\" Your future age will be: \" + str(future_age))"
   ]
  },
  {
   "cell_type": "code",
   "execution_count": null,
   "metadata": {},
   "outputs": [],
   "source": []
  }
 ],
 "metadata": {
  "kernelspec": {
   "display_name": "Python 3",
   "language": "python",
   "name": "python3"
  },
  "language_info": {
   "codemirror_mode": {
    "name": "ipython",
    "version": 3
   },
   "file_extension": ".py",
   "mimetype": "text/x-python",
   "name": "python",
   "nbconvert_exporter": "python",
   "pygments_lexer": "ipython3",
   "version": "3.6.5"
  }
 },
 "nbformat": 4,
 "nbformat_minor": 2
}
