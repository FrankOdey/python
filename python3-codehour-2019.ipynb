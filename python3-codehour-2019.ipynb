{
 "cells": [
  {
   "cell_type": "code",
   "execution_count": null,
   "metadata": {},
   "outputs": [],
   "source": [
    "n = 5\n",
    "while n > 0:\n",
    "    print(n)\n",
    "    n = n - 1\n",
    "print(\"Blastoff\")"
   ]
  },
  {
   "cell_type": "code",
   "execution_count": 1,
   "metadata": {},
   "outputs": [
    {
     "name": "stdout",
     "output_type": "stream",
     "text": [
      "50\n",
      "49\n",
      "48\n",
      "47\n",
      "46\n",
      "45\n",
      "44\n",
      "43\n",
      "42\n",
      "41\n",
      "40\n",
      "39\n",
      "38\n",
      "37\n",
      "36\n",
      "35\n",
      "34\n",
      "33\n",
      "32\n",
      "31\n",
      "30\n",
      "29\n",
      "28\n",
      "27\n",
      "26\n",
      "25\n",
      "24\n",
      "23\n",
      "22\n",
      "21\n",
      "20\n",
      "19\n",
      "18\n",
      "17\n",
      "16\n",
      "15\n",
      "14\n",
      "13\n",
      "12\n",
      "11\n",
      "10\n",
      "9\n",
      "8\n",
      "7\n",
      "6\n",
      "5\n",
      "4\n",
      "3\n",
      "2\n",
      "1\n",
      "Blastoff\n"
     ]
    }
   ],
   "source": [
    "n = 50\n",
    "while n > 0:\n",
    "    print(n)\n",
    "    n = n - 1\n",
    "print(\"Blastoff\")"
   ]
  },
  {
   "cell_type": "code",
   "execution_count": null,
   "metadata": {},
   "outputs": [],
   "source": [
    "name = input(\"Enter files\") # To access the files\n",
    "handle = open(name, 'r')\n",
    "text = handle.read() # To read the data of the files \n",
    "words = text.split()\n",
    "counts = dict()\n",
    "for word in words:\n",
    "    counts[word] = counts.get(word, 0) + 1\n",
    "bigCount = None\n",
    "bigWord = None\n",
    "for word, count in counts.items():\n",
    "    if bigCount is None or count > bigCount:\n",
    "        bigWord = word\n",
    "        bigCount = count\n",
    "print(bigWord, bigCount) # this is the output"
   ]
  },
  {
   "cell_type": "code",
   "execution_count": 2,
   "metadata": {},
   "outputs": [
    {
     "data": {
      "text/plain": [
       "1"
      ]
     },
     "execution_count": 2,
     "metadata": {},
     "output_type": "execute_result"
    }
   ],
   "source": [
    "5//3"
   ]
  },
  {
   "cell_type": "code",
   "execution_count": 3,
   "metadata": {},
   "outputs": [],
   "source": [
    "x = \"12\""
   ]
  },
  {
   "cell_type": "code",
   "execution_count": 4,
   "metadata": {},
   "outputs": [
    {
     "data": {
      "text/plain": [
       "str"
      ]
     },
     "execution_count": 4,
     "metadata": {},
     "output_type": "execute_result"
    }
   ],
   "source": [
    "type(x)"
   ]
  },
  {
   "cell_type": "code",
   "execution_count": 6,
   "metadata": {},
   "outputs": [
    {
     "name": "stdout",
     "output_type": "stream",
     "text": [
      "who are you:Frank\n",
      "Welcome ,Frank\n"
     ]
    }
   ],
   "source": [
    "nam =input(\"who are you:\")\n",
    "print(\"Welcome ,\" + nam)"
   ]
  },
  {
   "cell_type": "raw",
   "metadata": {},
   "source": []
  },
  {
   "cell_type": "code",
   "execution_count": 1,
   "metadata": {},
   "outputs": [
    {
     "name": "stdout",
     "output_type": "stream",
     "text": [
      "hi \n",
      "hi \n",
      "hi \n",
      "hi \n",
      "hi \n",
      "hi \n",
      "hi \n",
      "hi \n",
      "hi \n",
      "hi \n",
      "\n"
     ]
    }
   ],
   "source": [
    "print(\"hi \\n\" * 10)"
   ]
  },
  {
   "cell_type": "code",
   "execution_count": 3,
   "metadata": {},
   "outputs": [
    {
     "name": "stdout",
     "output_type": "stream",
     "text": [
      "hi \thi \thi \thi \thi \thi \thi \thi \thi \thi \thi \thi \thi \thi \thi \thi \thi \thi \thi \thi \thi \thi \thi \thi \thi \thi \thi \thi \thi \thi \t\n"
     ]
    }
   ],
   "source": [
    "print(\"hi \\t\" * 30)"
   ]
  },
  {
   "cell_type": "code",
   "execution_count": 6,
   "metadata": {},
   "outputs": [
    {
     "name": "stdout",
     "output_type": "stream",
     "text": [
      "hi\" \t\"hi\" \t\"hi\" \t\"hi\" \t\"hi\" \t\"hi\" \t\"hi\" \t\"hi\" \t\"hi\" \t\"hi\" \t\"hi\" \t\"hi\" \t\"hi\" \t\"hi\" \t\"hi\" \t\"hi\" \t\"hi\" \t\"hi\" \t\"hi\" \t\"hi\" \t\"hi\" \t\"hi\" \t\"hi\" \t\"hi\" \t\"hi\" \t\"hi\" \t\"hi\" \t\"hi\" \t\"hi\" \t\"hi\" \t\"hi\" \t\"hi\" \t\"hi\" \t\"hi\" \t\"hi\" \t\"hi\" \t\"hi\" \t\"hi\" \t\"hi\" \t\"hi\" \t\"hi\" \t\"hi\" \t\"hi\" \t\"hi\" \t\"hi\" \t\"hi\" \t\"hi\" \t\"hi\" \t\"hi\" \t\"hi\" \t\"\n"
     ]
    }
   ],
   "source": [
    "print('hi\" \\t\"' *50)"
   ]
  },
  {
   "cell_type": "code",
   "execution_count": 13,
   "metadata": {},
   "outputs": [
    {
     "name": "stdout",
     "output_type": "stream",
     "text": [
      "Enter your hours of work: 50\n",
      "Enter your rate: 5.7\n",
      "Your pay is: 285.0\n"
     ]
    }
   ],
   "source": [
    "hours = input(\"Enter your hours of work: \")\n",
    "rate = input(\"Enter your rate: \")\n",
    "pay = float(hours) * float(rate)\n",
    "print('Your pay is: ' + str(pay))"
   ]
  },
  {
   "cell_type": "code",
   "execution_count": 6,
   "metadata": {},
   "outputs": [
    {
     "name": "stdout",
     "output_type": "stream",
     "text": [
      "Enter the value of x: 9\n",
      "Greater than 4\n",
      "Greater than or Equal 5\n",
      "Not equal 6\n"
     ]
    }
   ],
   "source": [
    "x = int(input(\"Enter the value of x: \"))\n",
    "if x == 5:\n",
    "    print(\"Equal 5\")\n",
    "if x > 4 :\n",
    "    print(\"Greater than 4\")\n",
    "if  x >= 5:\n",
    "    print(\"Greater than or Equal 5\")\n",
    "if x <= 5:\n",
    "    print(\"Less than or Equal 5\")\n",
    "if x < 6 :\n",
    "    print(\"Less than 6\")\n",
    "if x != 6:\n",
    "    print(\"Not equal 6\")"
   ]
  },
  {
   "cell_type": "code",
   "execution_count": 12,
   "metadata": {},
   "outputs": [
    {
     "name": "stdout",
     "output_type": "stream",
     "text": [
      "Enter the value of x: 3\n",
      "Less than or Equal 5\n"
     ]
    }
   ],
   "source": [
    "x = int(input(\"Enter the value of x: \"))\n",
    "if x == 5:\n",
    "    print(\"Equal 5\")\n",
    "elif x > 4 :\n",
    "    print(\"Greater than 4\")\n",
    "elif  x >= 5:\n",
    "    print(\"Greater than or Equal 5\")\n",
    "elif x <= 5:\n",
    "    print(\"Less than or Equal 5\")\n",
    "elif x < 6 :\n",
    "    print(\"Less than 6\")\n",
    "elif x != 6:\n",
    "    print(\"Not equal 6\")\n",
    "else:\n",
    "    print('Done')"
   ]
  },
  {
   "cell_type": "code",
   "execution_count": 18,
   "metadata": {},
   "outputs": [
    {
     "name": "stdout",
     "output_type": "stream",
     "text": [
      "Enter your hours of work: forty\n",
      "Enter your rate: 10\n",
      "please enter a valid Number in figures\n"
     ]
    }
   ],
   "source": [
    "try:\n",
    "    hours = input(\"Enter your hours of work: \")\n",
    "    rate = input(\"Enter your rate: \")\n",
    "    hoursF = float(hours) # convert hours input to float\n",
    "    rateF = float(rate) # Convert rate input to float\n",
    "    pay = hoursF * rateF\n",
    "    \n",
    "    if hoursF > 40: # could use 'not operators- opposite of this'\n",
    "        extra = 0\n",
    "        extra = hoursF - 40\n",
    "        hoursF = 40\n",
    "        payE = hoursF * rateF + 1.5 * rateF * extra #calculate extra time\n",
    "        print('Your pay is: ' + str(payE))\n",
    "    else:\n",
    "        print(\"You Do not work extra time so your pay is \" + str(pay))\n",
    "except:\n",
    "    print(\"please enter a valid Number in figures\")"
   ]
  },
  {
   "cell_type": "code",
   "execution_count": 19,
   "metadata": {},
   "outputs": [
    {
     "name": "stdout",
     "output_type": "stream",
     "text": [
      "Hello\n",
      "Fun\n"
     ]
    }
   ],
   "source": [
    "def thing():\n",
    "    print(\"Hello\")\n",
    "    print(\"Fun\")\n",
    "thing()"
   ]
  },
  {
   "cell_type": "code",
   "execution_count": 20,
   "metadata": {},
   "outputs": [],
   "source": [
    "def add(x, y):\n",
    "    print( x + y)"
   ]
  },
  {
   "cell_type": "code",
   "execution_count": 21,
   "metadata": {},
   "outputs": [
    {
     "name": "stdout",
     "output_type": "stream",
     "text": [
      "17\n"
     ]
    }
   ],
   "source": [
    "add(8, 9)"
   ]
  },
  {
   "cell_type": "code",
   "execution_count": 22,
   "metadata": {},
   "outputs": [],
   "source": [
    "def add(y, x):\n",
    "    try:\n",
    "        print(y + x)\n",
    "    except:\n",
    "        print(\"Enter a figure\")"
   ]
  },
  {
   "cell_type": "code",
   "execution_count": 24,
   "metadata": {},
   "outputs": [
    {
     "name": "stdout",
     "output_type": "stream",
     "text": [
      "Enter a figure\n"
     ]
    }
   ],
   "source": [
    "add(8, '4')"
   ]
  },
  {
   "cell_type": "code",
   "execution_count": 25,
   "metadata": {},
   "outputs": [],
   "source": [
    "def workTimer():\n",
    "    try:\n",
    "        hours = input(\"Enter your hours of work: \")\n",
    "        rate = input(\"Enter your rate: \")\n",
    "        pay = float(hours) * float(rate)\n",
    "        print('Your pay is: ' + str(pay))\n",
    "    except:\n",
    "        print(\"enter all your data in numbers\")"
   ]
  },
  {
   "cell_type": "code",
   "execution_count": 26,
   "metadata": {},
   "outputs": [
    {
     "name": "stdout",
     "output_type": "stream",
     "text": [
      "Enter your hours of work: 50\n",
      "Enter your rate: 20\n",
      "Your pay is: 1000.0\n"
     ]
    }
   ],
   "source": [
    "workTimer()"
   ]
  },
  {
   "cell_type": "code",
   "execution_count": 28,
   "metadata": {},
   "outputs": [],
   "source": [
    "def greet(lang):\n",
    "    try:\n",
    "        if lang == 'es' :\n",
    "            print(\"Halo\")\n",
    "        elif lang == 'fr' :\n",
    "            print('Bonjour')\n",
    "        else:\n",
    "            print(\"Hello\")\n",
    "    except:\n",
    "        print(\"Type in the first two letter of the language\")"
   ]
  },
  {
   "cell_type": "code",
   "execution_count": 30,
   "metadata": {},
   "outputs": [
    {
     "name": "stdout",
     "output_type": "stream",
     "text": [
      "Enter the first two letters of the langugaees\n",
      "Halo\n"
     ]
    }
   ],
   "source": [
    "greet(input(\"Enter the first two letters of the langugae\"))"
   ]
  },
  {
   "cell_type": "code",
   "execution_count": 31,
   "metadata": {},
   "outputs": [],
   "source": [
    "def greetUs(lang): # using RETURN VALUE \n",
    "    try:\n",
    "        if lang == 'es' :\n",
    "            return \"Halo\"\n",
    "        elif lang == 'fr' :\n",
    "            return 'Bonjour'\n",
    "        else:\n",
    "            return \"Hello\"\n",
    "    except:\n",
    "        print(\"Type in the first two letter of the language\")"
   ]
  },
  {
   "cell_type": "code",
   "execution_count": 32,
   "metadata": {},
   "outputs": [
    {
     "name": "stdout",
     "output_type": "stream",
     "text": [
      "type in lettersen\n"
     ]
    }
   ],
   "source": [
    "x = greetUs(input(\"type in letters\"))"
   ]
  },
  {
   "cell_type": "code",
   "execution_count": 33,
   "metadata": {},
   "outputs": [
    {
     "name": "stdout",
     "output_type": "stream",
     "text": [
      "Hello\n"
     ]
    }
   ],
   "source": [
    "print(x)"
   ]
  },
  {
   "cell_type": "code",
   "execution_count": 34,
   "metadata": {},
   "outputs": [],
   "source": [
    "def computePay(hours, rate):\n",
    "    try:\n",
    "        pay = float(hours) * float(rate)\n",
    "        print('Your pay is: ' + str(pay))\n",
    "    except:\n",
    "        print(\"enter all your data in numbers\")"
   ]
  },
  {
   "cell_type": "code",
   "execution_count": 35,
   "metadata": {},
   "outputs": [
    {
     "name": "stdout",
     "output_type": "stream",
     "text": [
      "enter your hourse50\n",
      "enter your rate10\n",
      "Your pay is: 500.0\n"
     ]
    }
   ],
   "source": [
    "computePay(input(\"enter your hours: \"), input(\"enter your rate: \"))"
   ]
  },
  {
   "cell_type": "code",
   "execution_count": null,
   "metadata": {},
   "outputs": [],
   "source": []
  }
 ],
 "metadata": {
  "kernelspec": {
   "display_name": "Python 3",
   "language": "python",
   "name": "python3"
  }
 },
 "nbformat": 4,
 "nbformat_minor": 2
}
