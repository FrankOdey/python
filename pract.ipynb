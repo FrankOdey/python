{
 "cells": [
  {
   "cell_type": "code",
   "execution_count": 1,
   "metadata": {},
   "outputs": [
    {
     "name": "stdout",
     "output_type": "stream",
     "text": [
      "this the first python program\n"
     ]
    }
   ],
   "source": [
    "print(\"this the first python program\")"
   ]
  },
  {
   "cell_type": "code",
   "execution_count": 21,
   "metadata": {},
   "outputs": [
    {
     "name": "stdout",
     "output_type": "stream",
     "text": [
      "<function My_name at 0x00000187195E6378>\n"
     ]
    }
   ],
   "source": [
    "def My_name(My_name):\n",
    "    My_name = \"Francis\"\n",
    "print(My_name)"
   ]
  },
  {
   "cell_type": "code",
   "execution_count": 40,
   "metadata": {},
   "outputs": [
    {
     "name": "stdout",
     "output_type": "stream",
     "text": [
      "enter the number you want to add: 89\n",
      "Enter the second number: 90\n",
      "0\n",
      "1\n",
      "2\n",
      "3\n",
      "4\n",
      "5\n",
      "6\n",
      "7\n",
      "8\n",
      "9\n",
      "Your answer is still processing\n"
     ]
    }
   ],
   "source": [
    "calCulator = 0\n",
    "y = input(\"enter the number you want to add: \")\n",
    "x = input(\"Enter the second number: \")\n",
    "result = int(y) + int(x)\n",
    "for result in range(0,10):\n",
    "    print(result)\n",
    "else:\n",
    "    print(\"Your answer is still processing\")"
   ]
  },
  {
   "cell_type": "code",
   "execution_count": 44,
   "metadata": {},
   "outputs": [
    {
     "name": "stdout",
     "output_type": "stream",
     "text": [
      "90\n",
      "91\n",
      "92\n",
      "93\n",
      "94\n",
      "95\n",
      "96\n",
      "97\n",
      "98\n",
      "99\n"
     ]
    }
   ],
   "source": [
    "import random \n",
    "for random in range(90,100):\n",
    "    print(random)"
   ]
  },
  {
   "cell_type": "code",
   "execution_count": 62,
   "metadata": {},
   "outputs": [
    {
     "name": "stdout",
     "output_type": "stream",
     "text": [
      "enter your number: 901\n",
      "enter another number: 700\n",
      "Your result is: 1601\n"
     ]
    }
   ],
   "source": [
    "def calCu():\n",
    "    x = input(\"enter your number: \")\n",
    "    y = input(\"enter another number: \")\n",
    "    result = int(y) + int(x)\n",
    "    print(\"Your result is: \" + str(result))\n",
    "calCu()"
   ]
  },
  {
   "cell_type": "code",
   "execution_count": 63,
   "metadata": {},
   "outputs": [
    {
     "data": {
      "text/plain": [
       "'i am 5'"
      ]
     },
     "execution_count": 63,
     "metadata": {},
     "output_type": "execute_result"
    }
   ],
   "source": [
    "x = 5\n",
    "\"i am \" + str(x)"
   ]
  },
  {
   "cell_type": "code",
   "execution_count": 65,
   "metadata": {},
   "outputs": [
    {
     "data": {
      "text/plain": [
       "'50'"
      ]
     },
     "execution_count": 65,
     "metadata": {},
     "output_type": "execute_result"
    }
   ],
   "source": [
    "x = \"50\"\n",
    "x"
   ]
  },
  {
   "cell_type": "code",
   "execution_count": 66,
   "metadata": {},
   "outputs": [
    {
     "data": {
      "text/plain": [
       "50"
      ]
     },
     "execution_count": 66,
     "metadata": {},
     "output_type": "execute_result"
    }
   ],
   "source": [
    "int(x)"
   ]
  },
  {
   "cell_type": "code",
   "execution_count": 67,
   "metadata": {},
   "outputs": [
    {
     "data": {
      "text/plain": [
       "100"
      ]
     },
     "execution_count": 67,
     "metadata": {},
     "output_type": "execute_result"
    }
   ],
   "source": [
    "int(x) + 50"
   ]
  },
  {
   "cell_type": "code",
   "execution_count": 70,
   "metadata": {},
   "outputs": [
    {
     "data": {
      "text/plain": [
       "'I am 5years old'"
      ]
     },
     "execution_count": 70,
     "metadata": {},
     "output_type": "execute_result"
    }
   ],
   "source": [
    "age = 5\n",
    "\"I am \" + str(age) + \"years old\""
   ]
  },
  {
   "cell_type": "code",
   "execution_count": 71,
   "metadata": {},
   "outputs": [
    {
     "data": {
      "text/plain": [
       "'I am 5 years old'"
      ]
     },
     "execution_count": 71,
     "metadata": {},
     "output_type": "execute_result"
    }
   ],
   "source": [
    "\"I am {} years old\".format(age)"
   ]
  },
  {
   "cell_type": "code",
   "execution_count": 72,
   "metadata": {},
   "outputs": [
    {
     "data": {
      "text/plain": [
       "'I am 5 years and 6 months old'"
      ]
     },
     "execution_count": 72,
     "metadata": {},
     "output_type": "execute_result"
    }
   ],
   "source": [
    "\"I am {} years and {} months old\".format(age, 6)"
   ]
  },
  {
   "cell_type": "code",
   "execution_count": 73,
   "metadata": {},
   "outputs": [
    {
     "data": {
      "text/plain": [
       "'I am 5 years old, are you 5 years old too'"
      ]
     },
     "execution_count": 73,
     "metadata": {},
     "output_type": "execute_result"
    }
   ],
   "source": [
    "\"I am {age} years old, are you {age} years old too\".format(age=age)"
   ]
  },
  {
   "cell_type": "code",
   "execution_count": 74,
   "metadata": {},
   "outputs": [
    {
     "name": "stdout",
     "output_type": "stream",
     "text": [
      "Enter your age: 50\n"
     ]
    },
    {
     "data": {
      "text/plain": [
       "'50'"
      ]
     },
     "execution_count": 74,
     "metadata": {},
     "output_type": "execute_result"
    }
   ],
   "source": [
    "input(\"Enter your age: \")"
   ]
  },
  {
   "cell_type": "code",
   "execution_count": 75,
   "metadata": {},
   "outputs": [
    {
     "name": "stdout",
     "output_type": "stream",
     "text": [
      "Enter your age: 60\n"
     ]
    }
   ],
   "source": [
    "user_age = input(\"Enter your age: \")"
   ]
  },
  {
   "cell_type": "code",
   "execution_count": 76,
   "metadata": {},
   "outputs": [
    {
     "data": {
      "text/plain": [
       "60"
      ]
     },
     "execution_count": 76,
     "metadata": {},
     "output_type": "execute_result"
    }
   ],
   "source": [
    "int(user_age)"
   ]
  },
  {
   "cell_type": "code",
   "execution_count": 77,
   "metadata": {},
   "outputs": [
    {
     "data": {
      "text/plain": [
       "31536060"
      ]
     },
     "execution_count": 77,
     "metadata": {},
     "output_type": "execute_result"
    }
   ],
   "source": [
    "int(user_age) + 365 * 24 * 60 * 60"
   ]
  },
  {
   "cell_type": "code",
   "execution_count": 78,
   "metadata": {},
   "outputs": [
    {
     "name": "stdout",
     "output_type": "stream",
     "text": [
      "You have lived for 31536060 seconds.\n"
     ]
    }
   ],
   "source": [
    "seconds = int(user_age) + 365 * 24 * 60 * 60\n",
    "print(\"You have lived for {} seconds.\".format(seconds))"
   ]
  },
  {
   "cell_type": "code",
   "execution_count": 79,
   "metadata": {},
   "outputs": [
    {
     "name": "stdout",
     "output_type": "stream",
     "text": [
      "Enter your age: 50\n",
      "You have lived for 31536050 seconds.\n"
     ]
    }
   ],
   "source": [
    "def age_in_seconds():\n",
    "    user_age = input(\"Enter your age: \")\n",
    "    age_seconds = int(user_age) + 365 * 24 * 60 * 60\n",
    "    print(\"You have lived for {} seconds.\".format(age_seconds))\n",
    "    \n",
    "age_in_seconds()"
   ]
  },
  {
   "cell_type": "code",
   "execution_count": 80,
   "metadata": {},
   "outputs": [
    {
     "name": "stdout",
     "output_type": "stream",
     "text": [
      "Dont buy the chair!\n"
     ]
    }
   ],
   "source": [
    "price = 100\n",
    "if price < 100:\n",
    "    print(\"Buy the chair!\")\n",
    "else:\n",
    "    print(\"Dont buy the chair!\")"
   ]
  },
  {
   "cell_type": "code",
   "execution_count": 82,
   "metadata": {},
   "outputs": [
    {
     "name": "stdout",
     "output_type": "stream",
     "text": [
      "You can buy if you really want...\n"
     ]
    }
   ],
   "source": [
    "if price < 100:\n",
    "    print(\"Buy the chair\")\n",
    "elif price ==100:\n",
    "    print(\"You can buy if you really want...\")\n",
    "else:\n",
    "    print(\"Don't buy the Chair!\")"
   ]
  },
  {
   "cell_type": "code",
   "execution_count": 85,
   "metadata": {},
   "outputs": [
    {
     "name": "stdout",
     "output_type": "stream",
     "text": [
      "Give me seconds (s) or years (y)?y\n",
      "Enter the number of seconds you've lived for...50\n",
      "You've lived for 1576800000 years.\n"
     ]
    }
   ],
   "source": [
    "def age_program():\n",
    "    seconds_or_years = input(\"Give me seconds (s) or years (y)?\")\n",
    "    if seconds_or_years == \"s\":\n",
    "        #convert seconds to years\n",
    "        user_value = input(\"Enter the number of seconds you've lived for...\")\n",
    "        print(\"You've lived for {} years.\".format(int(user_value)/ 60 /60 / 24 / 365))\n",
    "    elif seconds_or_years == \"y\":\n",
    "        #convert years to seconds\n",
    "        user_value = input(\"Enter the number of seconds you've lived for...\")\n",
    "        print(\"You've lived for {} years.\".format(int(user_value) * 365 * 24 * 60 * 60))\n",
    "age_program()\n"
   ]
  },
  {
   "cell_type": "code",
   "execution_count": 86,
   "metadata": {},
   "outputs": [
    {
     "name": "stdout",
     "output_type": "stream",
     "text": [
      "Give me seconds (s) or years (y)?s\n",
      "Enter the number of seconds you've lived for...1576800000\n",
      "You've lived for 50.0 years.\n"
     ]
    }
   ],
   "source": [
    "age_program()"
   ]
  },
  {
   "cell_type": "code",
   "execution_count": null,
   "metadata": {},
   "outputs": [],
   "source": []
  }
 ],
 "metadata": {
  "kernelspec": {
   "display_name": "Python 3",
   "language": "python",
   "name": "python3"
  },
  "language_info": {
   "codemirror_mode": {
    "name": "ipython",
    "version": 3
   },
   "file_extension": ".py",
   "mimetype": "text/x-python",
   "name": "python",
   "nbconvert_exporter": "python",
   "pygments_lexer": "ipython3",
   "version": "3.6.5"
  }
 },
 "nbformat": 4,
 "nbformat_minor": 2
}
