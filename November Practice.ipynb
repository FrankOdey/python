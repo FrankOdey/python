{
 "cells": [
  {
   "cell_type": "code",
   "execution_count": 1,
   "metadata": {},
   "outputs": [
    {
     "name": "stdout",
     "output_type": "stream",
     "text": [
      "hello world\n"
     ]
    }
   ],
   "source": [
    "print(\"hello world\")"
   ]
  },
  {
   "cell_type": "code",
   "execution_count": 2,
   "metadata": {},
   "outputs": [
    {
     "name": "stdout",
     "output_type": "stream",
     "text": [
      "7\n"
     ]
    }
   ],
   "source": [
    "x = 2\n",
    "y = 5\n",
    "z = x + y\n",
    "print(z)"
   ]
  },
  {
   "cell_type": "code",
   "execution_count": 9,
   "metadata": {},
   "outputs": [
    {
     "name": "stdout",
     "output_type": "stream",
     "text": [
      "Enter the price of product: 50\n",
      "Enter the units of product: 6\n",
      "You will pay 300\n"
     ]
    }
   ],
   "source": [
    "price = input(\"Enter the price of product: \")\n",
    "units = input(\"Enter the units of product: \")\n",
    "purchase = int(price) * int(units)\n",
    "print(\"You will pay \" + str(purchase))"
   ]
  },
  {
   "cell_type": "code",
   "execution_count": 34,
   "metadata": {},
   "outputs": [
    {
     "name": "stdout",
     "output_type": "stream",
     "text": [
      "Enter the price of product: 80\n",
      "Enter the units of product: 7\n",
      "Congrats! 50% Discount, You will pay 2.8000000000000003\n"
     ]
    }
   ],
   "source": [
    "price = int(input(\"Enter the price of product: \"))\n",
    "units = int(input(\"Enter the units of product: \"))\n",
    "unitsLimit = 5\n",
    "unitsLimit2 = 10\n",
    "discount = 0.005\n",
    "purchase = price * units\n",
    "\n",
    "if units > unitsLimit and units < unitsLimit2:\n",
    "    unitsDiscount = purchase * discount\n",
    "    print(\"Congrats! 50% Discount, You will pay \" + str(unitsDiscount))\n",
    "else:\n",
    "    print(\"You will pay \" + str(purchase))"
   ]
  },
  {
   "cell_type": "code",
   "execution_count": 52,
   "metadata": {},
   "outputs": [
    {
     "name": "stdout",
     "output_type": "stream",
     "text": [
      "Enter the price of product: 90\n",
      "Enter the units of product: 10\n",
      "You will pay 900\n"
     ]
    }
   ],
   "source": [
    "price = int(input(\"Enter the price of product: \"))\n",
    "units = int(input(\"Enter the units of product: \"))\n",
    "unitsLimit = 5\n",
    "unitsLimit2 = 10\n",
    "discount = 0.005\n",
    "purchase = price * units\n",
    "\n",
    "if units <= unitsLimit +1:\n",
    "    unitsDiscount = purchase * discount\n",
    "    print(\"Congrats! 50% Discount, You will pay \" + str(unitsDiscount))\n",
    "else:\n",
    "    print(\"You will pay \" + str(purchase))"
   ]
  },
  {
   "cell_type": "code",
   "execution_count": null,
   "metadata": {},
   "outputs": [],
   "source": [
    "name = str(input(\"enter your name: \"))\n",
    "height_m = input(\"Enter your height: \")\n",
    "weight_kg = input(\"Enter your weight: \")\n",
    "\n",
    "bmi = int(weight_kg) / (int(height_m) ** 2)\n",
    "print(\"bmi: \")\n",
    "print(bmi)\n",
    "if bmi < 25:\n",
    "    print(name)\n",
    "    print(\"is not overweight\")\n",
    "else:\n",
    "    print(name)\n",
    "    print(\"is overweight\")"
   ]
  },
  {
   "cell_type": "code",
   "execution_count": null,
   "metadata": {},
   "outputs": [],
   "source": [
    "name = str(input(\"enter your name: \"))\n",
    "height_m = input(\"Enter your height: \")\n",
    "weight_kg = input(\"Enter your weight: \")\n",
    "\n",
    "bmi = int(weight_kg) / (int(height_m) ** 2)\n",
    "print(\"bmi: \")\n",
    "print(bmi)\n",
    "if bmi < 25:\n",
    "    print(name)\n",
    "    print(\"is not overweight\")\n",
    "else:\n",
    "    print(name)\n",
    "    print(\"is overweight\")"
   ]
  },
  {
   "cell_type": "code",
   "execution_count": null,
   "metadata": {},
   "outputs": [],
   "source": [
    "def CalCu(a, b):\n",
    "    total = sq(a, b)\n",
    "    if n = 1:\n",
    "        print(\"Result: \")"
   ]
  },
  {
   "cell_type": "code",
   "execution_count": null,
   "metadata": {},
   "outputs": [],
   "source": []
  }
 ],
 "metadata": {
  "kernelspec": {
   "display_name": "Python 3",
   "language": "python",
   "name": "python3"
  },
  "language_info": {
   "codemirror_mode": {
    "name": "ipython",
    "version": 3
   },
   "file_extension": ".py",
   "mimetype": "text/x-python",
   "name": "python",
   "nbconvert_exporter": "python",
   "pygments_lexer": "ipython3",
   "version": "3.6.5"
  }
 },
 "nbformat": 4,
 "nbformat_minor": 2
}
