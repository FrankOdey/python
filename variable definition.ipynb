{
 "cells": [
  {
   "cell_type": "code",
   "execution_count": 1,
   "metadata": {},
   "outputs": [
    {
     "name": "stdout",
     "output_type": "stream",
     "text": [
      "14.142135623730951\n"
     ]
    }
   ],
   "source": [
    "from math import sqrt\n",
    "x = sqrt(200)\n",
    "print(x)"
   ]
  },
  {
   "cell_type": "code",
   "execution_count": 7,
   "metadata": {},
   "outputs": [
    {
     "name": "stdout",
     "output_type": "stream",
     "text": [
      "kevin\n"
     ]
    }
   ],
   "source": [
    "studentNames = \"kevin\"\n",
    "print(studentNames)\n"
   ]
  },
  {
   "cell_type": "code",
   "execution_count": 12,
   "metadata": {},
   "outputs": [
    {
     "name": "stdout",
     "output_type": "stream",
     "text": [
      "Enter your name here: Bashir\n",
      "enter your age here: 29\n",
      "my name is Bashir and my age is: 29\n"
     ]
    }
   ],
   "source": [
    "name= input(\"Enter your name here: \")\n",
    "age = input(\"enter your age here: \")\n",
    "age2 = int(age)\n",
    "name2 = str(name)\n",
    "result = (\"my name is \" + name2 + \" and my age is: \" + str(age2))\n",
    "print(result);"
   ]
  },
  {
   "cell_type": "code",
   "execution_count": 15,
   "metadata": {},
   "outputs": [
    {
     "name": "stdout",
     "output_type": "stream",
     "text": [
      "Enter your name here: micheal \n",
      "Enter your present age: 30\n",
      "Your age in five years from now will be: 35\n"
     ]
    }
   ],
   "source": [
    "yourName = input(\"Enter your name here: \")\n",
    "yourPresentAge = input(\"Enter your present age: \")\n",
    "ageMultiplier = 5\n",
    "futureAge = int(yourPresentAge) + ageMultiplier\n",
    "print(\"Your age in five years from now will be: \" + str(futureAge))"
   ]
  },
  {
   "cell_type": "code",
   "execution_count": null,
   "metadata": {},
   "outputs": [],
   "source": []
  }
 ],
 "metadata": {
  "kernelspec": {
   "display_name": "Python 3",
   "language": "python",
   "name": "python3"
  },
  "language_info": {
   "codemirror_mode": {
    "name": "ipython",
    "version": 3
   },
   "file_extension": ".py",
   "mimetype": "text/x-python",
   "name": "python",
   "nbconvert_exporter": "python",
   "pygments_lexer": "ipython3",
   "version": "3.6.5"
  }
 },
 "nbformat": 4,
 "nbformat_minor": 2
}
